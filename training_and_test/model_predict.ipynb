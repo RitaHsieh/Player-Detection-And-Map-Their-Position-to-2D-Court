{
 "cells": [
  {
   "cell_type": "code",
   "execution_count": 2,
   "metadata": {},
   "outputs": [],
   "source": [
    "import numpy as np\n",
    "import cv2\n",
    "import tensorflow as tf\n",
    "from tensorflow import keras\n",
    "import matplotlib.pyplot as plt\n",
    "import os\n",
    "import math"
   ]
  },
  {
   "cell_type": "code",
   "execution_count": 4,
   "metadata": {},
   "outputs": [],
   "source": [
    "import keras.backend as K\n",
    "def dice_coef(y_true, y_pred, smooth=1.e-6):        \n",
    "    y_true_f = K.flatten(y_true)\n",
    "    y_pred_f = K.flatten(y_pred)\n",
    "    intersection = K.sum(y_true_f * y_pred_f)\n",
    "    dice = (2. * intersection + smooth) / (K.sum(y_true_f) + K.sum(y_pred_f) + smooth)\n",
    "    return dice\n",
    "\n",
    "def dice_coef_loss(y_true, y_pred):\n",
    "    return 1 - dice_coef(y_true, y_pred)\n",
    "\n",
    "\n",
    "# get_custom_objects().update({'dice_coef_loss': Loss(_ReLU)})\n",
    "def focal_loss(labels, logits, gamma=2.0, alpha=4.0): #[[[]],[[]],[[]],[[]],[[]]]):\n",
    "\n",
    "    epsilon = 1.e-9\n",
    "    f_loss_1 = -(alpha * (1-logits)**gamma * labels * K.log(logits + epsilon))\n",
    "    f_loss_0 = -((logits)**gamma * (1 - labels) * K.log(1 - logits + epsilon))\n",
    "\n",
    "    f_loss = f_loss_1 + f_loss_0\n",
    "\n",
    "    # Average over each data point/image in batch\n",
    "    axis_to_reduce = range(1, K.ndim(f_loss))\n",
    "    f_loss = K.mean(f_loss, axis=axis_to_reduce)\n",
    "\n",
    "    return f_loss\n",
    "\n",
    "def combine_loss(y_true, y_pred):\n",
    "    return dice_coef_loss(y_true, y_pred) * 0.02 + focal_loss(y_true, y_pred) * 2"
   ]
  },
  {
   "cell_type": "code",
   "execution_count": 5,
   "metadata": {},
   "outputs": [
    {
     "name": "stdout",
     "output_type": "stream",
     "text": [
      "Metal device set to: Apple M2\n",
      "\n",
      "systemMemory: 16.00 GB\n",
      "maxCacheSize: 5.33 GB\n",
      "\n"
     ]
    },
    {
     "name": "stderr",
     "output_type": "stream",
     "text": [
      "2023-01-16 18:21:30.330129: I tensorflow/core/common_runtime/pluggable_device/pluggable_device_factory.cc:305] Could not identify NUMA node of platform GPU ID 0, defaulting to 0. Your kernel may not have been built with NUMA support.\n",
      "2023-01-16 18:21:30.330723: I tensorflow/core/common_runtime/pluggable_device/pluggable_device_factory.cc:271] Created TensorFlow device (/job:localhost/replica:0/task:0/device:GPU:0 with 0 MB memory) -> physical PluggableDevice (device: 0, name: METAL, pci bus id: <undefined>)\n"
     ]
    }
   ],
   "source": [
    "custom_objects = {\"dice_coef_loss\": dice_coef_loss, \"focal_loss\": focal_loss,\n",
    "                    \"dice_coef\": dice_coef, \"combine_loss\": combine_loss}\n",
    "with keras.utils.custom_object_scope(custom_objects):\n",
    "    model = keras.models.load_model(r'model_0014_acc07.h5')"
   ]
  },
  {
   "cell_type": "code",
   "execution_count": 6,
   "metadata": {},
   "outputs": [
    {
     "ename": "NameError",
     "evalue": "name 'img_data_valid' is not defined",
     "output_type": "error",
     "traceback": [
      "\u001b[0;31m---------------------------------------------------------------------------\u001b[0m",
      "\u001b[0;31mNameError\u001b[0m                                 Traceback (most recent call last)",
      "Cell \u001b[0;32mIn[6], line 1\u001b[0m\n\u001b[0;32m----> 1\u001b[0m Y_pred \u001b[39m=\u001b[39m model\u001b[39m.\u001b[39mpredict(img_data_valid)\n\u001b[1;32m      2\u001b[0m ans \u001b[39m=\u001b[39m Y_pred\u001b[39m.\u001b[39mreshape(\u001b[39m100\u001b[39m, \u001b[39m192\u001b[39m, \u001b[39m320\u001b[39m, \u001b[39m4\u001b[39m)\n\u001b[1;32m      3\u001b[0m val \u001b[39m=\u001b[39m mask_valid\u001b[39m.\u001b[39mreshape(\u001b[39m100\u001b[39m, \u001b[39m192\u001b[39m, \u001b[39m320\u001b[39m, \u001b[39m4\u001b[39m)\n",
      "\u001b[0;31mNameError\u001b[0m: name 'img_data_valid' is not defined"
     ]
    }
   ],
   "source": [
    "Y_pred = model.predict(img_data_valid)\n",
    "ans = Y_pred.reshape(100, 192, 320, 4)\n",
    "val = mask_valid.reshape(100, 192, 320, 4)\n",
    "# cv2.imshow(\"res\",img_data[6])\n",
    "# cv2.waitKey(0)\n",
    "# cv2.destroyAllWindows\n",
    "\n",
    "for pic in range(34, 40):\n",
    "  fn, ax = plt.subplots(3, 4)\n",
    "  for i in range(3):\n",
    "\n",
    "      # plt.subplot(2,3,i+1)\n",
    "      result_img = np.clip(ans[pic,:,:,i], 0, 255)\n",
    "      result_img *= 255\n",
    "      \n",
    "      # print(result_img.shape, np.max(result_img), np.min(result_img))\n",
    "      _, result_img = cv2.threshold(result_img, 200 , 255, cv2.THRESH_BINARY)\n",
    "\n",
    "      ax[0][i].imshow(result_img)\n",
    "      ax[1][i].imshow(val[pic,:,:,i])\n",
    "    # result_img = cv2.resize(result_img, [640,360])\n",
    "    # cv2.imwrite(\"output/\"+str(i)+\".png\", result_img)\n",
    "# plt.imshow()"
   ]
  },
  {
   "cell_type": "code",
   "execution_count": 7,
   "metadata": {},
   "outputs": [
    {
     "name": "stdout",
     "output_type": "stream",
     "text": [
      "Build enceder done..\n",
      "Build decoder done..\n"
     ]
    }
   ],
   "source": [
    "from model import segnet\n",
    "model_test = segnet((288, 512, 3), 4)\n",
    "model_test.load_weights('segnet_09844_09811.h5')"
   ]
  },
  {
   "cell_type": "code",
   "execution_count": 12,
   "metadata": {},
   "outputs": [],
   "source": [
    "def court(img):\n",
    "    \n",
    "    h, w = img.shape[:2]\n",
    "    if np.max(img) == 0:\n",
    "        return None\n",
    "    else:\n",
    "        print(np.max(img))\n",
    "    \n",
    "    contours, hierarchy = cv2.findContours(img, cv2.RETR_TREE, cv2.CHAIN_APPROX_SIMPLE)\n",
    "    cnt = max(contours, key=cv2.contourArea)\n",
    "    hull = cv2.convexHull(cnt)\n",
    "    arr = np.zeros((h, w), np.uint8)\n",
    "    box = cv2.approxPolyDP(hull, 3, True)\n",
    "    \n",
    "    minimum = box[:,0,:].argmin(axis=0) # x_min, y_min\n",
    "    maximum = box[:,0,:].argmax(axis=0) # x_max, y_max\n",
    "    \n",
    "    left = box[minimum[0]][0]\n",
    "    right = box[maximum[0]][0]\n",
    "    top = box[minimum[1]][0]\n",
    "    bottom = box[maximum[1]][0]\n",
    "\n",
    "    if left[0] == 0:\n",
    "        left = []\n",
    "    if right[0] == w-1:\n",
    "        right = []\n",
    "    if top[0] == 0 or top[0] == w-1:\n",
    "        top = []\n",
    "    if bottom[0] == 0 or bottom[0] == w-1:\n",
    "        bottom = []\n",
    "\n",
    "    ans = [top, right, bottom, left]\n",
    "    return ans\n",
    "    \n",
    "def transform(pts1, pts2, mask, type):\n",
    "    # pts1 : to\n",
    "    # pts2 : from\n",
    "    pts1 = np.float32(pts1)\n",
    "    pts2 = np.float32(pts2)\n",
    "    M = cv2.getPerspectiveTransform(pts2,pts1)\n",
    "    if type == 1:\n",
    "        dst = cv2.warpPerspective(mask,M,(1224, 690))\n",
    "    else:\n",
    "        dst = cv2.warpPerspective(mask,M,(512, 288))\n",
    "\n",
    "    return dst, M\n",
    "    "
   ]
  },
  {
   "cell_type": "code",
   "execution_count": 14,
   "metadata": {},
   "outputs": [],
   "source": [
    "def count_dot(a):\n",
    "    count = 0\n",
    "    for i in a:\n",
    "        if len(i) != 0:\n",
    "            count += 1\n",
    "\n",
    "    return count"
   ]
  },
  {
   "cell_type": "code",
   "execution_count": 290,
   "metadata": {},
   "outputs": [
    {
     "data": {
      "text/plain": [
       "True"
      ]
     },
     "execution_count": 290,
     "metadata": {},
     "output_type": "execute_result"
    }
   ],
   "source": [
    "mask = cv2.imread(\"prepare_data/court.png\", cv2.COLOR_BGR2RGB)\n",
    "kernel = np.ones((3,3), np.uint8)\n",
    "mask = cv2.dilate(mask, kernel, 5)\n",
    "cv2.imwrite(\"mask_to_display.png\", mask)"
   ]
  },
  {
   "cell_type": "code",
   "execution_count": 10,
   "metadata": {},
   "outputs": [],
   "source": [
    "mask_valid = np.load(\"mask_valid.npy\")\n",
    "image_data_valid = np.load(\"img_data_valid.npy\")"
   ]
  },
  {
   "cell_type": "code",
   "execution_count": 15,
   "metadata": {},
   "outputs": [
    {
     "name": "stdout",
     "output_type": "stream",
     "text": [
      "1/1 [==============================] - 0s 168ms/step\n",
      "255\n",
      "4 0 0\n",
      "[[ 15.21832498 241.54778096]\n",
      " [249.21832498 241.54778096]\n",
      " [249.21832498 437.54778096]\n",
      " [ 15.21832498 437.54778096]]\n",
      "[array([210, 142], dtype=int32), array([351, 158], dtype=int32), array([287, 187], dtype=int32), array([137, 160], dtype=int32)]\n",
      "[[-1.49125962e+00 -6.20772343e+00  1.17941724e+03]\n",
      " [ 8.50765288e-01 -1.20524826e+01  1.29083640e+03]\n",
      " [-6.49288721e-04 -1.31361757e-02  1.00000000e+00]]\n",
      "[[ 100.31103778]\n",
      " [-261.0977152 ]\n",
      " [  -0.92007529]]\n",
      "1.648991710235707\n"
     ]
    },
    {
     "data": {
      "image/png": "[encoded data removed]",
      "text/plain": [
       "<Figure size 640x480 with 8 Axes>"
      ]
     },
     "metadata": {},
     "output_type": "display_data"
    }
   ],
   "source": [
    "path = \"test_images/\"\n",
    "kernel = np.ones((3,3), np.uint8)\n",
    "count = 0\n",
    "mask = cv2.imread(\"unused_img/200_255.png\", cv2.COLOR_BGR2RGB)\n",
    "mask = cv2.resize(mask, (1996, 1096))\n",
    "ob = np.load(\"prepare_data/transform_base_back.npy\")\n",
    "video = \"result/guest_setplay.mp4\"\n",
    "\n",
    "\n",
    "for f in os.listdir(path):\n",
    "    count += 1\n",
    "    if count % 5 != 0 :\n",
    "        continue\n",
    "\n",
    "    fn, ax = plt.subplots(2, 4)\n",
    "    image = cv2.imread( \"test_images/Image647.jpg\")#os.path.join(path, f), cv2.COLOR_BGR2RGB)\n",
    "    # ax[count][0].imshow(img)\n",
    "    \n",
    "    \n",
    "    image = cv2.resize(image, (512, 288))\n",
    "    img = np.array(image, np.float32)\n",
    "    img /= 255 \n",
    "    img = [img]\n",
    "    ans = model_test.predict(np.array(img))\n",
    "    ans = ans.reshape((1, 288, 512, 4))\n",
    "    handle_img = ans[0]\n",
    "    handle_img = np.where(handle_img>0.5, 255, 0)\n",
    "    handle_img = np.array(handle_img, np.uint8)\n",
    "    \n",
    "    \n",
    "    for i in range(4):\n",
    "        # cv2.imwrite(\"result\" + str(i) + \".png\", handle_img[:,:,i])\n",
    "        handle_img[:,:,i] = cv2.dilate(handle_img[:,:, i], kernel, iterations = 3)\n",
    "        handle_img[:,:,i] = cv2.erode(handle_img[:,:, i], kernel, iterations = 3)\n",
    "        ax[0][i].imshow(handle_img[:,:, i])\n",
    "\n",
    "    # count += 1\n",
    "    # if count > 2:\n",
    "    #     break\n",
    "    \n",
    "    left_dot = 0\n",
    "    right_dot = 0\n",
    "    center_dot = 0\n",
    "    pts1=[]\n",
    "    pts2=[]\n",
    "\n",
    "    left = court(handle_img[:,:,0])\n",
    "    \n",
    "    right= court(handle_img[:,:,1])\n",
    "    \n",
    "    center = court(handle_img[:,:,2])\n",
    "    \n",
    "    # print(left, right , center)\n",
    "    \n",
    "    if left is not None:\n",
    "        left_dot = count_dot(left)\n",
    "    if right is not None:\n",
    "        right_dot = count_dot(right)\n",
    "    if center is not None:\n",
    "        center_dot = count_dot(center)\n",
    "    \n",
    "    print(left_dot, right_dot, center_dot)\n",
    "\n",
    "    if left_dot == 4:\n",
    "        pts1 = ob[0]\n",
    "        pts2 = left\n",
    "    elif right_dot == 4:\n",
    "        pts1 = ob[2]\n",
    "        pts2 = right\n",
    "    elif center_dot == 4:\n",
    "        pts1 = ob[1]\n",
    "        pts2 = center\n",
    "    elif right_dot is None:\n",
    "        pts1 = ob[3]\n",
    "        pts2 = [center[0], center[2], left[1], left[2]]\n",
    "    elif left_dot is None:\n",
    "        pts1 = ob[4]\n",
    "        pts2 = [right[2], right[3], center[0], center[2]]\n",
    "\n",
    "    \n",
    "    print(pts1)\n",
    "    print(pts2)\n",
    "    tf_image, T1 = transform(pts1, pts2, image, 1)\n",
    "    tfback_image, T2 = transform(pts2, pts1, mask, 2)\n",
    "    print(T1)\n",
    "    aaa = np.array([[145], [139],[1]])\n",
    "    print(T1.dot(aaa))\n",
    "    # pts1 : to\n",
    "    # pts2 : from\n",
    "    w = math.dist(pts1[0], pts1[1]) / math.dist(pts2[0], pts2[1])\n",
    "    print(w)\n",
    "    for ii in pts2:\n",
    "        cv2.circle(image, ii, 5, (0, 255, 0), 10)\n",
    "    for jj in pts1:\n",
    "        m = mask.copy()\n",
    "        jj = np.array(jj,np.uint8 )\n",
    "        cv2.circle(mask, jj, 5, (255, 0, 0), 10)\n",
    "    ax[1][0].imshow(tfback_image)\n",
    "    ax[1][1].imshow(image)\n",
    "    ax[1][2].imshow(tf_image)\n",
    "    ax[1][3].imshow(mask)\n",
    "    plt.show()\n",
    "\n",
    "    # count += 1\n",
    "    # if count > 100:\n",
    "    break\n",
    "\n",
    "\n",
    "\n"
   ]
  }
 ],
 "metadata": {
  "kernelspec": {
   "display_name": "testenv-E-V3w2qM",
   "language": "python",
   "name": "python3"
  },
  "language_info": {
   "codemirror_mode": {
    "name": "ipython",
    "version": 3
   },
   "file_extension": ".py",
   "mimetype": "text/x-python",
   "name": "python",
   "nbconvert_exporter": "python",
   "pygments_lexer": "ipython3",
   "version": "3.8.16"
  },
  "orig_nbformat": 4,
  "vscode": {
   "interpreter": {
    "hash": "2469ed37af119be97c6c3f1ca636979661f9225cd4e08c9ef4fed605b7b61b59"
   }
  }
 },
 "nbformat": 4,
 "nbformat_minor": 2
}
